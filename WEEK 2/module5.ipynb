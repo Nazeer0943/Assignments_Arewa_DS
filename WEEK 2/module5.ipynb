{
 "cells": [
  {
   "cell_type": "markdown",
   "metadata": {},
   "source": [
    "Module 5 exercises"
   ]
  },
  {
   "cell_type": "code",
   "execution_count": 2,
   "metadata": {},
   "outputs": [],
   "source": [
    "#  1. Declare an empty list\n",
    "\n",
    "empty_list = []"
   ]
  },
  {
   "cell_type": "code",
   "execution_count": 3,
   "metadata": {},
   "outputs": [],
   "source": [
    "#  2. Declare a list with more than 5 items\n",
    "\n",
    "list_5 = [\"a\", \"b\", \"c\", \"d\", \"e\"]"
   ]
  },
  {
   "cell_type": "code",
   "execution_count": 4,
   "metadata": {},
   "outputs": [
    {
     "name": "stdout",
     "output_type": "stream",
     "text": [
      "5\n"
     ]
    }
   ],
   "source": [
    "#  3. Find the length of your list\n",
    "\n",
    "print(len(list_5))"
   ]
  },
  {
   "cell_type": "code",
   "execution_count": 5,
   "metadata": {},
   "outputs": [
    {
     "name": "stdout",
     "output_type": "stream",
     "text": [
      "a c e\n"
     ]
    }
   ],
   "source": [
    "# 4. Get the first item, the middle item and the last item of the list\n",
    "\n",
    "print(list_5[0], list_5[2], list_5[-1])"
   ]
  },
  {
   "cell_type": "code",
   "execution_count": 6,
   "metadata": {},
   "outputs": [],
   "source": [
    "#. 5. Declare a list called mixed_data_types, put your(name, age, height, marital status, address)\n",
    "\n",
    "mixed_data_type = [\"nazir\", 25, 1.7, \"married\", \"Katsina, Nigeria\"]"
   ]
  },
  {
   "cell_type": "code",
   "execution_count": 7,
   "metadata": {},
   "outputs": [],
   "source": [
    "# 6. Declare a list variable named it_companies and assign initial values Facebook, Google, Microsoft, Apple, IBM, Oracle and Amazon.\n",
    "\n",
    "companies = [\"Facebook\", \"Google\", \"Micosoft\", \"Apple\", \"IBM\", \"Oracle\", \"Amazon\"]"
   ]
  },
  {
   "cell_type": "code",
   "execution_count": 8,
   "metadata": {},
   "outputs": [
    {
     "name": "stdout",
     "output_type": "stream",
     "text": [
      "['Facebook', 'Google', 'Micosoft', 'Apple', 'IBM', 'Oracle', 'Amazon']\n"
     ]
    }
   ],
   "source": [
    "# 7. Orint the lits using print()\n",
    "\n",
    "print(companies)"
   ]
  },
  {
   "cell_type": "code",
   "execution_count": 9,
   "metadata": {},
   "outputs": [
    {
     "name": "stdout",
     "output_type": "stream",
     "text": [
      "7\n"
     ]
    }
   ],
   "source": [
    "# 8. Print the number of companies in the list\n",
    "\n",
    "print(len(companies))"
   ]
  },
  {
   "cell_type": "code",
   "execution_count": 10,
   "metadata": {},
   "outputs": [
    {
     "name": "stdout",
     "output_type": "stream",
     "text": [
      "Facebook Apple Amazon\n"
     ]
    }
   ],
   "source": [
    "# 9. Print the first, middle and last company\n",
    "\n",
    "print(companies[0], companies[3], companies[-1])"
   ]
  },
  {
   "cell_type": "code",
   "execution_count": 11,
   "metadata": {},
   "outputs": [
    {
     "name": "stdout",
     "output_type": "stream",
     "text": [
      "['Fbook', 'Google', 'Micosoft', 'Apple', 'IBM', 'Oracle', 'Amazon']\n"
     ]
    }
   ],
   "source": [
    "# 10. Print the list after modifying one of the companies\n",
    "\n",
    "companies[0] = \"Fbook\"\n",
    "print(companies)"
   ]
  },
  {
   "cell_type": "code",
   "execution_count": 12,
   "metadata": {},
   "outputs": [
    {
     "name": "stdout",
     "output_type": "stream",
     "text": [
      "['Fbook', 'Google', 'Micosoft', 'Apple', 'IBM', 'Oracle', 'Amazon', 'IT']\n"
     ]
    }
   ],
   "source": [
    "# 11. Add an IT company to it_companies\n",
    "\n",
    "companies.append(\"IT\")\n",
    "print(companies)"
   ]
  },
  {
   "cell_type": "code",
   "execution_count": 13,
   "metadata": {},
   "outputs": [
    {
     "name": "stdout",
     "output_type": "stream",
     "text": [
      "['Fbook', 'Google', 'Micosoft', 'new_one', 'Apple', 'IBM', 'Oracle', 'Amazon', 'IT']\n"
     ]
    }
   ],
   "source": [
    "# 12. Insert an IT company in the middle of the companies list\n",
    "\n",
    "companies.insert(3, \"new_one\")\n",
    "print(companies)"
   ]
  },
  {
   "cell_type": "code",
   "execution_count": 14,
   "metadata": {},
   "outputs": [
    {
     "name": "stdout",
     "output_type": "stream",
     "text": [
      "GOOGLE\n"
     ]
    }
   ],
   "source": [
    "# 13. Change one of the it_companies names to uppercase (IBM excluded!)\n",
    "\n",
    "print(companies[1].upper())"
   ]
  },
  {
   "cell_type": "code",
   "execution_count": 15,
   "metadata": {},
   "outputs": [
    {
     "name": "stdout",
     "output_type": "stream",
     "text": [
      "['Fbook', 'Google', 'Micosoft', 'new_one', 'Apple', 'IBM', 'Oracle', 'Amazon', 'IT', '#']\n"
     ]
    }
   ],
   "source": [
    "# 14. Join the it_companies with a string '#;  '\n",
    "\n",
    "companies = companies + [\"#\"]\n",
    "print(companies)"
   ]
  },
  {
   "cell_type": "code",
   "execution_count": 16,
   "metadata": {},
   "outputs": [
    {
     "name": "stdout",
     "output_type": "stream",
     "text": [
      "True\n"
     ]
    }
   ],
   "source": [
    "# 15. Check if a certain company exists in the it_companies list.\n",
    "print(\"IT\" in companies)"
   ]
  },
  {
   "cell_type": "code",
   "execution_count": 17,
   "metadata": {},
   "outputs": [
    {
     "name": "stdout",
     "output_type": "stream",
     "text": [
      "['#', 'Amazon', 'Apple', 'Fbook', 'Google', 'IBM', 'IT', 'Micosoft', 'Oracle', 'new_one']\n"
     ]
    }
   ],
   "source": [
    "# 16. Sort the list using sort() method\n",
    "companies.sort()\n",
    "print(companies)"
   ]
  },
  {
   "cell_type": "code",
   "execution_count": 18,
   "metadata": {},
   "outputs": [
    {
     "name": "stdout",
     "output_type": "stream",
     "text": [
      "['new_one', 'Oracle', 'Micosoft', 'IT', 'IBM', 'Google', 'Fbook', 'Apple', 'Amazon', '#']\n"
     ]
    }
   ],
   "source": [
    "# 17. Reverse the list in descending order using reverse() method\n",
    "companies.reverse()\n",
    "print(companies)"
   ]
  },
  {
   "cell_type": "code",
   "execution_count": null,
   "metadata": {},
   "outputs": [
    {
     "name": "stdout",
     "output_type": "stream",
     "text": [
      "['new_one', 'Oracle', 'Micosoft']\n"
     ]
    }
   ],
   "source": [
    "#18. Slice out the first 3 companies from the list\n",
    "\n",
    "print(companies[:3])"
   ]
  },
  {
   "cell_type": "code",
   "execution_count": 21,
   "metadata": {},
   "outputs": [
    {
     "name": "stdout",
     "output_type": "stream",
     "text": [
      "['Apple', 'Amazon', '#']\n"
     ]
    }
   ],
   "source": [
    "#19. Slice out the last 3 companies from the list\n",
    "\n",
    "print(companies[7:])"
   ]
  },
  {
   "cell_type": "code",
   "execution_count": null,
   "metadata": {},
   "outputs": [
    {
     "name": "stdout",
     "output_type": "stream",
     "text": [
      "10\n",
      "['IBM', 'Google']\n"
     ]
    }
   ],
   "source": [
    "#20. Slice out the middle IT company or companies from the list\n",
    "\n",
    "print(len(companies)) #we are printing the len in order to know what the middle number will be\n",
    "print(companies[4:6])"
   ]
  },
  {
   "cell_type": "code",
   "execution_count": 26,
   "metadata": {},
   "outputs": [
    {
     "data": {
      "text/plain": [
       "['Oracle', 'Micosoft', 'IT', 'IBM', 'Google', 'Fbook', 'Apple', 'Amazon', '#']"
      ]
     },
     "execution_count": 26,
     "metadata": {},
     "output_type": "execute_result"
    }
   ],
   "source": [
    "#21. Remove the first IT company from the list\n",
    "\n",
    "companies.remove(\"new_one\")\n",
    "companies"
   ]
  },
  {
   "cell_type": "code",
   "execution_count": 29,
   "metadata": {},
   "outputs": [
    {
     "data": {
      "text/plain": [
       "['Oracle', 'Micosoft', 'IT', 'IBM', '#']"
      ]
     },
     "execution_count": 29,
     "metadata": {},
     "output_type": "execute_result"
    }
   ],
   "source": [
    "#22. Remove the middle IT company or companies from the list\n",
    "\n",
    "del companies[5]\n",
    "companies.pop(4)\n",
    "companies"
   ]
  },
  {
   "cell_type": "code",
   "execution_count": 30,
   "metadata": {},
   "outputs": [
    {
     "name": "stdout",
     "output_type": "stream",
     "text": [
      "['Oracle', 'Micosoft', 'IT', 'IBM']\n"
     ]
    }
   ],
   "source": [
    "#23. Remove the last IT company from the list\n",
    "\n",
    "del companies[-1]\n",
    "print(companies)"
   ]
  },
  {
   "cell_type": "code",
   "execution_count": 31,
   "metadata": {},
   "outputs": [
    {
     "name": "stdout",
     "output_type": "stream",
     "text": [
      "None\n"
     ]
    }
   ],
   "source": [
    "#24. Remove all IT companies from the list\n",
    "\n",
    "print(companies.clear())"
   ]
  },
  {
   "cell_type": "code",
   "execution_count": 33,
   "metadata": {},
   "outputs": [
    {
     "ename": "NameError",
     "evalue": "name 'companies' is not defined",
     "output_type": "error",
     "traceback": [
      "\u001b[1;31m---------------------------------------------------------------------------\u001b[0m",
      "\u001b[1;31mNameError\u001b[0m                                 Traceback (most recent call last)",
      "Cell \u001b[1;32mIn[33], line 3\u001b[0m\n\u001b[0;32m      1\u001b[0m \u001b[38;5;66;03m#25. Destroy the IT companies list\u001b[39;00m\n\u001b[1;32m----> 3\u001b[0m \u001b[38;5;28;01mdel\u001b[39;00m \u001b[43mcompanies\u001b[49m\n\u001b[0;32m      4\u001b[0m \u001b[38;5;28mprint\u001b[39m(companies)\n",
      "\u001b[1;31mNameError\u001b[0m: name 'companies' is not defined"
     ]
    }
   ],
   "source": [
    "#25. Destroy the IT companies list\n",
    "\n",
    "del companies\n",
    "print(companies)"
   ]
  },
  {
   "cell_type": "code",
   "execution_count": 42,
   "metadata": {},
   "outputs": [
    {
     "data": {
      "text/plain": [
       "['HTML', 'CSS', 'JS', 'React', 'Redux', 'Node', 'Express', 'MongoDB']"
      ]
     },
     "execution_count": 42,
     "metadata": {},
     "output_type": "execute_result"
    }
   ],
   "source": [
    "#26. Join the following lists:\n",
    "\n",
    "#front_end = ['HTML', 'CSS', 'JS', 'React', 'Redux']\n",
    "#back_end = ['Node','Express', 'MongoDB']\n",
    "\n",
    "\n",
    "front_end = ['HTML', 'CSS', 'JS', 'React', 'Redux']\n",
    "back_end = ['Node','Express', 'MongoDB']\n",
    "\n",
    "front_end.extend(back_end)\n",
    "front_end\n",
    "\n",
    "\n"
   ]
  },
  {
   "cell_type": "code",
   "execution_count": 43,
   "metadata": {},
   "outputs": [
    {
     "data": {
      "text/plain": [
       "['HTML',\n",
       " 'CSS',\n",
       " 'JS',\n",
       " 'React',\n",
       " 'Redux',\n",
       " 'Node',\n",
       " 'Express',\n",
       " 'MongoDB',\n",
       " 'Node',\n",
       " 'Express',\n",
       " 'MongoDB']"
      ]
     },
     "execution_count": 43,
     "metadata": {},
     "output_type": "execute_result"
    }
   ],
   "source": [
    "joined_list = front_end + back_end\n",
    "joined_list"
   ]
  },
  {
   "cell_type": "code",
   "execution_count": 48,
   "metadata": {},
   "outputs": [
    {
     "name": "stdout",
     "output_type": "stream",
     "text": [
      "['HTML', 'CSS', 'JS', 'React', 'Redux', 'Python', 'sample1', 'sample2', 'sample3', 'SQL', 'Node', 'Express', 'MongoDB']\n"
     ]
    }
   ],
   "source": [
    "#27. After joining the lists in question 26. Copy the joined list and assign it to a variable full_stack, then insert Python and SQL after Redux.\n",
    "\n",
    "full_stack = front_end[:]\n",
    "full_stack.insert(5, \"Python\")\n",
    "full_stack.insert(6, \"SQL\")\n",
    "full_stack[6:6] = [\"sample1\", \"sample2\", \"sample3\"]\n",
    "print(full_stack)\n"
   ]
  }
 ],
 "metadata": {
  "kernelspec": {
   "display_name": "Python 3",
   "language": "python",
   "name": "python3"
  },
  "language_info": {
   "codemirror_mode": {
    "name": "ipython",
    "version": 3
   },
   "file_extension": ".py",
   "mimetype": "text/x-python",
   "name": "python",
   "nbconvert_exporter": "python",
   "pygments_lexer": "ipython3",
   "version": "3.12.7"
  }
 },
 "nbformat": 4,
 "nbformat_minor": 2
}
