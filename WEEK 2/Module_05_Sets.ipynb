{
 "cells": [
  {
   "cell_type": "markdown",
   "metadata": {},
   "source": [
    "***Sets_Exercises***"
   ]
  },
  {
   "cell_type": "markdown",
   "metadata": {},
   "source": [
    "# sets\n",
    "it_companies = {'Facebook', 'Google', 'Microsoft', 'Apple', 'IBM', 'Oracle', 'Amazon'}\n",
    "A = {19, 22, 24, 20, 25, 26}\n",
    "B = {19, 22, 20, 25, 26, 24, 28, 27}\n",
    "age = [22, 19, 24, 25, 26, 24, 25, 24]"
   ]
  },
  {
   "cell_type": "code",
   "execution_count": 15,
   "metadata": {},
   "outputs": [],
   "source": [
    "A = {19, 22, 24, 20, 25, 26}\n",
    "B = {19, 22, 20, 25, 26, 24, 28, 27}\n",
    "age = [22, 19, 24, 25, 26, 24, 25, 24]"
   ]
  },
  {
   "cell_type": "code",
   "execution_count": null,
   "metadata": {},
   "outputs": [
    {
     "name": "stdout",
     "output_type": "stream",
     "text": [
      "7\n"
     ]
    }
   ],
   "source": [
    "#1. Find the length of the set it_companies\n",
    "\n",
    "it_companies = {'Facebook', 'Google', 'Microsoft', 'Apple', 'IBM', 'Oracle', 'Amazon'}\n",
    "print(len(it_companies))"
   ]
  },
  {
   "cell_type": "code",
   "execution_count": 5,
   "metadata": {},
   "outputs": [
    {
     "data": {
      "text/plain": [
       "{'Amazon',\n",
       " 'Apple',\n",
       " 'Facebook',\n",
       " 'Google',\n",
       " 'IBM',\n",
       " 'Microsoft',\n",
       " 'Oracle',\n",
       " 'Twitter'}"
      ]
     },
     "execution_count": 5,
     "metadata": {},
     "output_type": "execute_result"
    }
   ],
   "source": [
    "#2. Add 'Twitter' to it_companies\n",
    "\n",
    "it_companies.add(\"Twitter\")\n",
    "it_companies"
   ]
  },
  {
   "cell_type": "code",
   "execution_count": null,
   "metadata": {},
   "outputs": [
    {
     "data": {
      "text/plain": [
       "{'Amazon',\n",
       " 'Apple',\n",
       " 'Facebook',\n",
       " 'Google',\n",
       " 'IBM',\n",
       " 'Microsoft',\n",
       " 'Oracle',\n",
       " 'Twitter'}"
      ]
     },
     "execution_count": 7,
     "metadata": {},
     "output_type": "execute_result"
    }
   ],
   "source": [
    "#3. Insert multiple IT companies at once to the set it_companies\n",
    "\n",
    "it_companies.update(it_companies)\n",
    "it_companies"
   ]
  },
  {
   "cell_type": "code",
   "execution_count": 13,
   "metadata": {},
   "outputs": [
    {
     "name": "stdout",
     "output_type": "stream",
     "text": [
      "{'Apple', 'Facebook', 'Amazon', 'Microsoft', 'Google', 'IBM'}\n"
     ]
    }
   ],
   "source": [
    "#4. Remove one of the companies from the set it_companies\n",
    "\n",
    "it_companies.remove(\"Twitter\")\n",
    "print(it_companies)"
   ]
  },
  {
   "cell_type": "markdown",
   "metadata": {},
   "source": [
    "_DISCARD;_ This means to completly  discard or destroy a set.\n",
    "\n",
    "_while._\n",
    "\n",
    "_Clear:_ means to let go of all the values of a set without destroying or deleting a set completly. "
   ]
  },
  {
   "cell_type": "markdown",
   "metadata": {},
   "source": [
    "***Sets Exercises: Level 2***"
   ]
  },
  {
   "cell_type": "code",
   "execution_count": null,
   "metadata": {},
   "outputs": [
    {
     "name": "stdout",
     "output_type": "stream",
     "text": [
      "{19, 20, 22, 24, 25, 26, 27, 28}\n"
     ]
    }
   ],
   "source": [
    "#1. Join A and B\n",
    "\n",
    "print(A.union(B))"
   ]
  },
  {
   "cell_type": "code",
   "execution_count": null,
   "metadata": {},
   "outputs": [
    {
     "name": "stdout",
     "output_type": "stream",
     "text": [
      "{19, 20, 22, 24, 25, 26}\n"
     ]
    }
   ],
   "source": [
    "#2. Find A intersection B\n",
    "\n",
    "print(A.intersection(B))"
   ]
  },
  {
   "cell_type": "code",
   "execution_count": null,
   "metadata": {},
   "outputs": [
    {
     "name": "stdout",
     "output_type": "stream",
     "text": [
      "True\n"
     ]
    }
   ],
   "source": [
    "#3. Is A subset of B\n",
    "\n",
    "print(A.issubset(B))"
   ]
  },
  {
   "cell_type": "code",
   "execution_count": null,
   "metadata": {},
   "outputs": [
    {
     "name": "stdout",
     "output_type": "stream",
     "text": [
      "False\n"
     ]
    }
   ],
   "source": [
    "#4. Are A and B disjoint sets\n",
    "\n",
    "print(A.isdisjoint(B))"
   ]
  },
  {
   "cell_type": "code",
   "execution_count": 21,
   "metadata": {},
   "outputs": [
    {
     "name": "stdout",
     "output_type": "stream",
     "text": [
      "{19, 20, 22, 24, 25, 26, 27, 28}\n",
      "None\n"
     ]
    }
   ],
   "source": [
    "# 5. Join A with B and B with A\n",
    "print(A.union(B))\n",
    "print(B.update(A))"
   ]
  },
  {
   "cell_type": "code",
   "execution_count": null,
   "metadata": {},
   "outputs": [
    {
     "name": "stdout",
     "output_type": "stream",
     "text": [
      "{27, 28}\n"
     ]
    }
   ],
   "source": [
    "#6. What is the symmetric difference between A and B\n",
    "\n",
    "print(A.symmetric_difference(B))"
   ]
  },
  {
   "cell_type": "code",
   "execution_count": 23,
   "metadata": {},
   "outputs": [],
   "source": [
    "#7. Delete the sets completely\n",
    "del it_companies\n",
    "del A \n",
    "del B"
   ]
  },
  {
   "cell_type": "markdown",
   "metadata": {},
   "source": [
    "***Sets Exercises: Level 3***"
   ]
  },
  {
   "cell_type": "code",
   "execution_count": 35,
   "metadata": {},
   "outputs": [
    {
     "name": "stdout",
     "output_type": "stream",
     "text": [
      "This is the length of age\n",
      " 8 \n",
      "and\n",
      " the length of age_aset\n",
      " 5\n"
     ]
    }
   ],
   "source": [
    "#1. Convert the ages to a set and compare the length of the list and the set, which one is bigger?\n",
    "age_set = set(age)\n",
    "print(\"This is the length of age\\n\", len(age), \"\\nand\\n\",  \"the length of age_aset\\n\", len(age_list))"
   ]
  },
  {
   "cell_type": "markdown",
   "metadata": {},
   "source": [
    "#2. Explain the difference between the following data types: string, list, tuple and set\n",
    "\n",
    "***Strings*** ; A string is one type of data type where by it comprises of text originally, however, an integer can be formated or converted to be usedn as string, eg\n",
    "    string = \"a\"\n",
    "    converted_string = \"5\"\n",
    "from the above examples, it can be seen that 5 which is originally an int has been converted to string. \n",
    "\n",
    "***list*** ; This another data type where  it consistis any variety of data data types within it, the elements are encapsulated with square brackets [], and its mutable, meaning that it can be altered, additionally, a list contains multiple simalar values. \n",
    "\n",
    "***tuple*** ;  A tuple data type can also contain different data types within it but it can not be altered thefore it is not mutable, the elements here are encapsulated in paranthesis (). \n",
    "\n",
    "***set*** ; A set data type is like a normal set of mathematics, the elements are closed in curly brackets {}, and it can also contain multiple data types, a set is not mutabe but an addition or removing of elements is allowed within it, additionally, a set contains only unique values. "
   ]
  },
  {
   "cell_type": "code",
   "execution_count": 41,
   "metadata": {},
   "outputs": [
    {
     "name": "stdout",
     "output_type": "stream",
     "text": [
      "the total unique word used in the splitted_word is; 10\n"
     ]
    }
   ],
   "source": [
    "#3. I am a teacher and I love to inspire and teach people. How many unique words have been used in the sentence? Use the split methods and set to get the unique words.\n",
    "\n",
    "splitted_words = 'I am a teacher and I love to inspire and teach people.'.split()\n",
    "\n",
    "#we are converting the splitted_words as it became a list auomatically, and for us to have only the uique values, we need to convert it to set\n",
    "\n",
    "unique_values = set(splitted_words)\n",
    "print(\"the total unique word used in the splitted_word is;\", len(unique_values))"
   ]
  }
 ],
 "metadata": {
  "kernelspec": {
   "display_name": "Python 3",
   "language": "python",
   "name": "python3"
  },
  "language_info": {
   "codemirror_mode": {
    "name": "ipython",
    "version": 3
   },
   "file_extension": ".py",
   "mimetype": "text/x-python",
   "name": "python",
   "nbconvert_exporter": "python",
   "pygments_lexer": "ipython3",
   "version": "3.13.0"
  }
 },
 "nbformat": 4,
 "nbformat_minor": 2
}
