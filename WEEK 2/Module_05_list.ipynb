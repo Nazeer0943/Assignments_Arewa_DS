{
 "cells": [
  {
   "cell_type": "markdown",
   "metadata": {},
   "source": [
    "MODULE 5 LITS EXERCISES "
   ]
  },
  {
   "cell_type": "code",
   "execution_count": null,
   "metadata": {},
   "outputs": [],
   "source": [
    "#  1. Declare an empty list\n",
    "\n",
    "empty_list = []"
   ]
  },
  {
   "cell_type": "code",
   "execution_count": null,
   "metadata": {},
   "outputs": [],
   "source": [
    "#  2. Declare a list with more than 5 items\n",
    "\n",
    "list_5 = [\"a\", \"b\", \"c\", \"d\", \"e\"]"
   ]
  },
  {
   "cell_type": "code",
   "execution_count": null,
   "metadata": {},
   "outputs": [
    {
     "name": "stdout",
     "output_type": "stream",
     "text": [
      "5\n"
     ]
    }
   ],
   "source": [
    "#  3. Find the length of your list\n",
    "\n",
    "print(len(list_5))"
   ]
  },
  {
   "cell_type": "code",
   "execution_count": null,
   "metadata": {},
   "outputs": [
    {
     "name": "stdout",
     "output_type": "stream",
     "text": [
      "a c e\n"
     ]
    }
   ],
   "source": [
    "# 4. Get the first item, the middle item and the last item of the list\n",
    "\n",
    "print(list_5[0], list_5[2], list_5[-1])"
   ]
  },
  {
   "cell_type": "code",
   "execution_count": 11,
   "metadata": {},
   "outputs": [],
   "source": [
    "#. 5. Declare a list called mixed_data_types, put your(name, age, height, marital status, address)\n",
    "\n",
    "mixed_data_type = [\"nazir\", 25, 1.7, \"married\", \"Katsina, Nigeria\"]"
   ]
  },
  {
   "cell_type": "code",
   "execution_count": 12,
   "metadata": {},
   "outputs": [],
   "source": [
    "# 6. Declare a list variable named it_companies and assign initial values Facebook, Google, Microsoft, Apple, IBM, Oracle and Amazon.\n",
    "\n",
    "companies = [\"Facebook\", \"Google\", \"Micosoft\", \"Apple\", \"IBM\", \"Oracle\", \"Amazon\"]"
   ]
  },
  {
   "cell_type": "code",
   "execution_count": null,
   "metadata": {},
   "outputs": [
    {
     "name": "stdout",
     "output_type": "stream",
     "text": [
      "['Facebook', 'Google', 'Micosoft', 'Apple', 'IBM', 'Oracle', 'Amazon']\n"
     ]
    }
   ],
   "source": [
    "# 7. Orint the lits using print()\n",
    "\n",
    "print(companies)"
   ]
  },
  {
   "cell_type": "code",
   "execution_count": null,
   "metadata": {},
   "outputs": [
    {
     "name": "stdout",
     "output_type": "stream",
     "text": [
      "7\n"
     ]
    }
   ],
   "source": [
    "# 8. Print the number of companies in the list\n",
    "\n",
    "print(len(companies))"
   ]
  },
  {
   "cell_type": "code",
   "execution_count": null,
   "metadata": {},
   "outputs": [
    {
     "name": "stdout",
     "output_type": "stream",
     "text": [
      "Facebook Apple Amazon\n"
     ]
    }
   ],
   "source": [
    "# 9. Print the first, middle and last company\n",
    "\n",
    "print(companies[0], companies[3], companies[-1])"
   ]
  },
  {
   "cell_type": "code",
   "execution_count": 16,
   "metadata": {},
   "outputs": [
    {
     "name": "stdout",
     "output_type": "stream",
     "text": [
      "['Fbook', 'Google', 'Micosoft', 'Apple', 'IBM', 'Oracle', 'Amazon']\n"
     ]
    }
   ],
   "source": [
    "# 10. Print the list after modifying one of the companies\n",
    "\n",
    "companies[0] = \"Fbook\"\n",
    "print(companies)"
   ]
  },
  {
   "cell_type": "code",
   "execution_count": null,
   "metadata": {},
   "outputs": [
    {
     "name": "stdout",
     "output_type": "stream",
     "text": [
      "['Fbook', 'Google', 'Micosoft', 'Apple', 'IBM', 'Oracle', 'Amazon', 'IT']\n"
     ]
    }
   ],
   "source": [
    "# 11. Add an IT company to it_companies\n",
    "\n",
    "companies.append(\"IT\")\n",
    "print(companies)"
   ]
  },
  {
   "cell_type": "code",
   "execution_count": 19,
   "metadata": {},
   "outputs": [
    {
     "name": "stdout",
     "output_type": "stream",
     "text": [
      "['Fbook', 'Google', 'Micosoft', 'new_one', 'new_one', 'Apple', 'IBM', 'Oracle', 'Amazon', 'IT']\n"
     ]
    }
   ],
   "source": [
    "# 12. Insert an IT company in the middle of the companies list\n",
    "\n",
    "companies.insert(3, \"new_one\")\n",
    "print(companies)"
   ]
  },
  {
   "cell_type": "code",
   "execution_count": 22,
   "metadata": {},
   "outputs": [
    {
     "name": "stdout",
     "output_type": "stream",
     "text": [
      "GOOGLE\n"
     ]
    }
   ],
   "source": [
    "# 13. Change one of the it_companies names to uppercase (IBM excluded!)\n",
    "\n",
    "print(companies[1].upper())"
   ]
  },
  {
   "cell_type": "code",
   "execution_count": 25,
   "metadata": {},
   "outputs": [
    {
     "name": "stdout",
     "output_type": "stream",
     "text": [
      "['Fbook', 'Google', 'Micosoft', 'new_one', 'new_one', 'Apple', 'IBM', 'Oracle', 'Amazon', 'IT', '#']\n"
     ]
    }
   ],
   "source": [
    "# 14. Join the it_companies with a string '#;  '\n",
    "\n",
    "companies = companies + [\"#\"]\n",
    "print(companies)"
   ]
  },
  {
   "cell_type": "code",
   "execution_count": 26,
   "metadata": {},
   "outputs": [
    {
     "name": "stdout",
     "output_type": "stream",
     "text": [
      "True\n"
     ]
    }
   ],
   "source": [
    "# 15. Check if a certain company exists in the it_companies list.\n",
    "print(\"IT\" in companies)"
   ]
  },
  {
   "cell_type": "code",
   "execution_count": 30,
   "metadata": {},
   "outputs": [
    {
     "name": "stdout",
     "output_type": "stream",
     "text": [
      "['#', 'Amazon', 'Apple', 'Fbook', 'Google', 'IBM', 'IT', 'Micosoft', 'Oracle', 'new_one', 'new_one']\n"
     ]
    }
   ],
   "source": [
    "# 16. Sort the list using sort() method\n",
    "companies.sort()\n",
    "print(companies)"
   ]
  },
  {
   "cell_type": "code",
   "execution_count": 32,
   "metadata": {},
   "outputs": [
    {
     "name": "stdout",
     "output_type": "stream",
     "text": [
      "['#', 'Amazon', 'Apple', 'Fbook', 'Google', 'IBM', 'IT', 'Micosoft', 'Oracle', 'new_one', 'new_one']\n"
     ]
    }
   ],
   "source": [
    "# 17. Reverse the list in descending order using reverse() method\n",
    "companies.reverse()\n",
    "print(companies)"
   ]
  },
  {
   "cell_type": "code",
   "execution_count": null,
   "metadata": {},
   "outputs": [],
   "source": []
  },
  {
   "cell_type": "code",
   "execution_count": null,
   "metadata": {},
   "outputs": [],
   "source": []
  }
 ],
 "metadata": {
  "kernelspec": {
   "display_name": "Python 3",
   "language": "python",
   "name": "python3"
  },
  "language_info": {
   "codemirror_mode": {
    "name": "ipython",
    "version": 3
   },
   "file_extension": ".py",
   "mimetype": "text/x-python",
   "name": "python",
   "nbconvert_exporter": "python",
   "pygments_lexer": "ipython3",
   "version": "3.12.7"
  }
 },
 "nbformat": 4,
 "nbformat_minor": 2
}
