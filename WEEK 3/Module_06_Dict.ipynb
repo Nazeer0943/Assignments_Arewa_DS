{
 "cells": [
  {
   "cell_type": "markdown",
   "metadata": {},
   "source": [
    "***Exercises: Module 6***\n"
   ]
  },
  {
   "cell_type": "code",
   "execution_count": 1,
   "metadata": {},
   "outputs": [],
   "source": [
    "#1. Create an empty dictionary called dog\n",
    "\n",
    "dog = {}"
   ]
  },
  {
   "cell_type": "code",
   "execution_count": 4,
   "metadata": {},
   "outputs": [
    {
     "data": {
      "text/plain": [
       "{'name': 'pinky',\n",
       " 'color': 'black',\n",
       " 'breed': 'German Shepherd',\n",
       " 'legs': 4,\n",
       " 'age': 6}"
      ]
     },
     "execution_count": 4,
     "metadata": {},
     "output_type": "execute_result"
    }
   ],
   "source": [
    "#2. Add name, color, breed, legs, age to the dog dictionary\n",
    "\n",
    "\n",
    "dog[\"name\"] = \"pinky\"\n",
    "dog[\"color\"] = \"black\"\n",
    "dog[\"breed\"] = \"German Shepherd\"\n",
    "dog[\"legs\"] = 4\n",
    "dog[\"age\"] = 6\n",
    "dog"
   ]
  },
  {
   "cell_type": "code",
   "execution_count": null,
   "metadata": {},
   "outputs": [],
   "source": [
    "#3. Create a student dictionary and add first_name, last_name, gender, age, marital status, skills, country, city and address as keys for the dictionary\n",
    "\n",
    "\n",
    "student = {\"first_name\" : \"Nazir\", \"last_name\" : \"Sani\", 'gender' : \"male\", \"age\" : 25, \"marital_status\" : \"married\",\n",
    "           \"skills\" : [\"Python\", \"R\", \"SPSS\"], \"country\" : \"Nigeria\", \"city\" : \"Katsina\", 'address' : \"Modoji, Katsina\"}"
   ]
  },
  {
   "cell_type": "code",
   "execution_count": 6,
   "metadata": {},
   "outputs": [
    {
     "name": "stdout",
     "output_type": "stream",
     "text": [
      "9\n"
     ]
    }
   ],
   "source": [
    "#4. Get the length of the student dictionary\n",
    "\n",
    "\n",
    "print(len(student))"
   ]
  },
  {
   "cell_type": "code",
   "execution_count": 11,
   "metadata": {},
   "outputs": [
    {
     "name": "stdout",
     "output_type": "stream",
     "text": [
      "<class 'list'>\n",
      "['Python', 'R', 'SPSS']\n"
     ]
    }
   ],
   "source": [
    "#5. Get the value of skills and check the data type, it should be a list\n",
    "\n",
    "print(type(student[\"skills\"]))\n",
    "print(student[\"skills\"])"
   ]
  },
  {
   "cell_type": "code",
   "execution_count": null,
   "metadata": {},
   "outputs": [
    {
     "data": {
      "text/plain": [
       "{'first_name': 'Nazir',\n",
       " 'last_name': 'Sani',\n",
       " 'gender': 'male',\n",
       " 'age': 25,\n",
       " 'marital_status': 'married',\n",
       " 'skills': ['Python', 'R', 'SPSS', 'C++', 'C++', 'MongoDB'],\n",
       " 'country': 'Nigeria',\n",
       " 'city': 'Katsina',\n",
       " 'address': 'Modoji, Katsina'}"
      ]
     },
     "execution_count": 15,
     "metadata": {},
     "output_type": "execute_result"
    }
   ],
   "source": [
    "#6. Modify the skills values by adding one or two skills\n",
    "\n",
    "student[\"skills\"].append(\"C++\")\n",
    "student[\"skills\"].append(\"MongoDB\")\n",
    "student"
   ]
  },
  {
   "cell_type": "code",
   "execution_count": null,
   "metadata": {},
   "outputs": [
    {
     "name": "stdout",
     "output_type": "stream",
     "text": [
      "dict_keys(['first_name', 'last_name', 'gender', 'age', 'marital_status', 'skills', 'country', 'city', 'address'])\n"
     ]
    }
   ],
   "source": [
    "#8. Get the dictionary keys as a list\n",
    "\n",
    "print(student.keys())"
   ]
  },
  {
   "cell_type": "code",
   "execution_count": 17,
   "metadata": {},
   "outputs": [
    {
     "name": "stdout",
     "output_type": "stream",
     "text": [
      "dict_values(['Nazir', 'Sani', 'male', 25, 'married', ['Python', 'R', 'SPSS', 'C++', 'C++', 'MongoDB'], 'Nigeria', 'Katsina', 'Modoji, Katsina'])\n"
     ]
    }
   ],
   "source": [
    "#9. Get the dictionary values as a list\n",
    "\n",
    "print(student.values())"
   ]
  },
  {
   "cell_type": "code",
   "execution_count": 19,
   "metadata": {},
   "outputs": [
    {
     "name": "stdout",
     "output_type": "stream",
     "text": [
      "dict_items([('first_name', 'Nazir'), ('last_name', 'Sani'), ('gender', 'male'), ('age', 25), ('marital_status', 'married'), ('skills', ['Python', 'R', 'SPSS', 'C++', 'C++', 'MongoDB']), ('country', 'Nigeria'), ('city', 'Katsina'), ('address', 'Modoji, Katsina')])\n"
     ]
    }
   ],
   "source": [
    "#9. Change the dictionary to a list of tuples using items() method\n",
    "\n",
    "print(student.items())"
   ]
  },
  {
   "cell_type": "code",
   "execution_count": 20,
   "metadata": {},
   "outputs": [
    {
     "data": {
      "text/plain": [
       "{'last_name': 'Sani',\n",
       " 'gender': 'male',\n",
       " 'age': 25,\n",
       " 'marital_status': 'married',\n",
       " 'skills': ['Python', 'R', 'SPSS', 'C++', 'C++', 'MongoDB'],\n",
       " 'country': 'Nigeria',\n",
       " 'city': 'Katsina',\n",
       " 'address': 'Modoji, Katsina'}"
      ]
     },
     "execution_count": 20,
     "metadata": {},
     "output_type": "execute_result"
    }
   ],
   "source": [
    "#10. Delete one of the items in the dictionary\n",
    "\n",
    "del student[\"first_name\"]\n",
    "student"
   ]
  },
  {
   "cell_type": "code",
   "execution_count": 21,
   "metadata": {},
   "outputs": [
    {
     "ename": "NameError",
     "evalue": "name 'studen' is not defined",
     "output_type": "error",
     "traceback": [
      "\u001b[1;31m---------------------------------------------------------------------------\u001b[0m",
      "\u001b[1;31mNameError\u001b[0m                                 Traceback (most recent call last)",
      "Cell \u001b[1;32mIn[21], line 4\u001b[0m\n\u001b[0;32m      1\u001b[0m \u001b[38;5;66;03m#11. Delete one of the dictionaries\u001b[39;00m\n\u001b[0;32m      3\u001b[0m \u001b[38;5;28;01mdel\u001b[39;00m student\n\u001b[1;32m----> 4\u001b[0m \u001b[43mstuden\u001b[49m\n",
      "\u001b[1;31mNameError\u001b[0m: name 'studen' is not defined"
     ]
    }
   ],
   "source": [
    "#11. Delete one of the dictionaries\n",
    "\n",
    "del student\n",
    "studen"
   ]
  }
 ],
 "metadata": {
  "kernelspec": {
   "display_name": "Python 3",
   "language": "python",
   "name": "python3"
  },
  "language_info": {
   "codemirror_mode": {
    "name": "ipython",
    "version": 3
   },
   "file_extension": ".py",
   "mimetype": "text/x-python",
   "name": "python",
   "nbconvert_exporter": "python",
   "pygments_lexer": "ipython3",
   "version": "3.13.0"
  }
 },
 "nbformat": 4,
 "nbformat_minor": 2
}
