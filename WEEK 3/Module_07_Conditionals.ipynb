{
 "cells": [
  {
   "cell_type": "markdown",
   "metadata": {},
   "source": [
    "__Module 7__"
   ]
  },
  {
   "cell_type": "markdown",
   "metadata": {},
   "source": [
    "# Exercises: Level 1"
   ]
  },
  {
   "cell_type": "markdown",
   "metadata": {},
   "source": [
    "##### 1.Get user input using input(“Enter your age: ”). If user is 18 or older, give feedback: You are old enough to drive. If below 18 give feedback to wait for the missing amount of years. Output:\n",
    "\n",
    "Enter your age: 30\n",
    "You are old enough to learn to drive.\n",
    "Output:\n",
    "Enter your age: 15\n",
    "You need 3 more years to learn to drive."
   ]
  },
  {
   "cell_type": "code",
   "execution_count": null,
   "metadata": {},
   "outputs": [
    {
     "name": "stdout",
     "output_type": "stream",
     "text": [
      "You need atleast 6 to drive\n"
     ]
    }
   ],
   "source": [
    "a = int(input(\"Enter your age\"))\n",
    "if a >= 18:\n",
    "    print(\"PAPA,you are too old to derive\")\n",
    "\n",
    "elif a < 18:\n",
    "    print(f\"You need to wait for  atleast {18-a} to drive\")\n"
   ]
  },
  {
   "cell_type": "markdown",
   "metadata": {},
   "source": [
    "\n",
    "##### 2. Compare the values of my_age and your_age using if … else. Who is older (me or you)? Use input(“Enter your age: ”) to get the age as input. You can use a nested condition to print 'year' for 1 year difference in age, 'years' for bigger differences, and a custom text if my_age = your_age. Output:\n",
    "\n",
    "Enter your age: 30\n",
    "You are 5 years older than me."
   ]
  },
  {
   "cell_type": "code",
   "execution_count": 7,
   "metadata": {},
   "outputs": [
    {
     "name": "stdout",
     "output_type": "stream",
     "text": [
      "We are at the same age\n"
     ]
    }
   ],
   "source": [
    "my_age = 25\n",
    "your_age = int(input(\"Enter the age:\"))\n",
    "\n",
    "if my_age > your_age:\n",
    "    diff = my_age - your_age\n",
    "    if diff ==1:\n",
    "        print(\"I am 1 year older than you\")\n",
    "    else:\n",
    "        print(f\"I am are {diff} older than you\")\n",
    "elif your_age > my_age:\n",
    "    diff = your_age-my_age\n",
    "    if diff == 1:\n",
    "        print(\"You are 1 year older than me\")\n",
    "    else:\n",
    "        print(f\"You are {diff} older than me\")\n",
    "else:\n",
    "    print(\"We are at the same age\")\n"
   ]
  },
  {
   "cell_type": "markdown",
   "metadata": {},
   "source": [
    "3. Get two numbers from the user using input prompt. If a is greater than b return a is greater than b, if a is less b return a is smaller than b, else a is equal to b. Output:\n",
    "\n",
    "Enter number one: 4\n",
    "Enter number two: 3\n",
    "4 is greater than 33"
   ]
  },
  {
   "cell_type": "code",
   "execution_count": 17,
   "metadata": {},
   "outputs": [
    {
     "name": "stdout",
     "output_type": "stream",
     "text": [
      "This value of b: 5 is certainly bigger  than 2\n"
     ]
    }
   ],
   "source": [
    "a = int(input(\"Enter the value of a:\"))\n",
    "b = int(input(\"Enter the value of b:\"))\n",
    "\n",
    "if a > b:\n",
    "    print(f\"This value of a: {a} is bigger than {b}\")\n",
    "elif b > a:\n",
    "    print(f\"This value of b: {b} is certainly bigger  than {a}\")\n",
    "else:\n",
    "    print(f\"Both the value of a: {a} and b: {b} are the same\")\n",
    "    \n"
   ]
  },
  {
   "cell_type": "markdown",
   "metadata": {},
   "source": [
    "***Exercises: Level 2***"
   ]
  },
  {
   "cell_type": "markdown",
   "metadata": {},
   "source": [
    "Write a code which gives grade to students according to theirs scores:\n",
    "\n",
    "80-100, A\n",
    "70-89, B\n",
    "60-69, C\n",
    "50-59, D\n",
    "0-49, F"
   ]
  },
  {
   "cell_type": "code",
   "execution_count": 23,
   "metadata": {},
   "outputs": [
    {
     "name": "stdout",
     "output_type": "stream",
     "text": [
      "Your grade is C\n"
     ]
    }
   ],
   "source": [
    "marks = int(input(\"Enter your score to know your grade: \"))\n",
    "if marks >= 80 and marks <= 100:\n",
    "    print(\"Your grade is A\")\n",
    "elif marks >= 70 and marks <= 89:\n",
    "    print(\"Your grade is B\")\n",
    "elif marks >= 60 and marks <= 69:\n",
    "    print(\"Your grade is C\")\n",
    "elif marks >= 50 and marks <= 59:\n",
    "    print(\"Your grade is D\")\n",
    "else:\n",
    "    print(\"Sorry! You have failed the course\")\n"
   ]
  },
  {
   "cell_type": "markdown",
   "metadata": {},
   "source": [
    "Check if the season is Autumn, Winter, Spring or Summer. If the user input is: September, October or November, the season is Autumn. December, January or February, the season is Winter. March, April or May, the season is Spring June, July or August, the season is Summer\n",
    "\n"
   ]
  },
  {
   "cell_type": "code",
   "execution_count": 25,
   "metadata": {},
   "outputs": [
    {
     "name": "stdout",
     "output_type": "stream",
     "text": [
      "The season is Summer\n"
     ]
    }
   ],
   "source": [
    "a = [\"September\", \"October\", \"November\"]\n",
    "b = [\"December\", \"January\", \"February\"]\n",
    "c = [\"March\", \"April\", \"May\"]\n",
    "\n",
    "month = input(\"Enter your Month: \")\n",
    "if month in a:\n",
    "    print(\"The season is Autumn\")\n",
    "elif month in b:\n",
    "    print(\"The season is winter\")\n",
    "else:\n",
    "    print(\"The season is Summer\")"
   ]
  },
  {
   "cell_type": "markdown",
   "metadata": {},
   "source": [
    "```sh\n",
    "fruits = ['banana', 'orange', 'mango', 'lemon']\n",
    "```\n",
    "\n",
    "If a fruit doesn't exist in the list add the fruit to the list and print the modified list. If the fruit exists print('That fruit already exist in the list')\n"
   ]
  },
  {
   "cell_type": "code",
   "execution_count": 30,
   "metadata": {},
   "outputs": [
    {
     "name": "stdout",
     "output_type": "stream",
     "text": [
      "This new lis of fruits we have:  ['banana', 'orange', 'mango', 'lemon', 'guiver']\n"
     ]
    }
   ],
   "source": [
    "fruits = ['banana', 'orange', 'mango', 'lemon']\n",
    "new_fruit = input(\"Enter your best fruit: \")\n",
    "\n",
    "if new_fruit in fruits:\n",
    "    print(\"Sorry, this fruit already exists\")\n",
    "else:\n",
    "    fruits.append(new_fruit)\n",
    "    print(\"This new lis of fruits we have: \", fruits)"
   ]
  },
  {
   "cell_type": "markdown",
   "metadata": {},
   "source": [
    "***Exercises: Level 3***"
   ]
  },
  {
   "cell_type": "code",
   "execution_count": 35,
   "metadata": {
    "vscode": {
     "languageId": "javascript"
    }
   },
   "outputs": [],
   "source": [
    "#Here we have a person dictionary. Feel free to modify it!\n",
    "person = {\n",
    "    'first_name': 'Asabeneh',\n",
    "    'last_name': 'Yetayeh',\n",
    "    'age': 250,\n",
    "    'country': 'Finland',\n",
    "    'is_marred': True,\n",
    "    'skills': ['JavaScript', 'React', 'Node', 'MongoDB', 'Python'],\n",
    "    'address': {\n",
    "        'street': 'Space street',\n",
    "        'zipcode': '02210'\n",
    "    }\n",
    "    }"
   ]
  },
  {
   "cell_type": "markdown",
   "metadata": {},
   "source": [
    " * Check if the person dictionary has skills key, if so print out the middle skill in the skills list.\n",
    " * Check if the person dictionary has skills key, if so check if the person has 'Python' skill and print out the result.\n",
    " * If a person skills has only JavaScript and React, print('He is a front end developer'), if the person skills has Node, Python, MongoDB, print('He is a backend developer'), if the person skills has React, Node and MongoDB, Print('He is a fullstack developer'), else print('unknown title') - for more accurate results more conditions can be nested!\n",
    " * If the person is married and if he lives in Finland, print the information in the following format:"
   ]
  },
  {
   "cell_type": "code",
   "execution_count": 38,
   "metadata": {
    "vscode": {
     "languageId": "javascript"
    }
   },
   "outputs": [
    {
     "name": "stdout",
     "output_type": "stream",
     "text": [
      "Node\n"
     ]
    }
   ],
   "source": [
    "#Check if the person dictionary has skills key, if so print out the middle skill in the skills list.\n",
    "\n",
    "if \"skills\" in person.keys():\n",
    "    print(person[\"skills\"][2])\n",
    "\t\n"
   ]
  },
  {
   "cell_type": "code",
   "execution_count": 40,
   "metadata": {
    "vscode": {
     "languageId": "javascript"
    }
   },
   "outputs": [
    {
     "name": "stdout",
     "output_type": "stream",
     "text": [
      "It is available\n"
     ]
    }
   ],
   "source": [
    "# Check if the person dictionary has skills key, if so check \n",
    "#if the person has 'Python' skill and print out the result.\n",
    "\n",
    "if \"skills\" in person.keys():\n",
    "    if \"python\".title() in person[\"skills\"]:\n",
    "        print(\"It is available\")\n",
    "    else:\n",
    "        print(\"It is not availabe\")"
   ]
  },
  {
   "cell_type": "code",
   "execution_count": null,
   "metadata": {
    "vscode": {
     "languageId": "javascript"
    }
   },
   "outputs": [
    {
     "name": "stdout",
     "output_type": "stream",
     "text": [
      "He is a front end developer\n"
     ]
    },
    {
     "ename": "",
     "evalue": "",
     "output_type": "error",
     "traceback": [
      "\u001b[1;31mThe Kernel crashed while executing code in the current cell or a previous cell. \n",
      "\u001b[1;31mPlease review the code in the cell(s) to identify a possible cause of the failure. \n",
      "\u001b[1;31mClick <a href='https://aka.ms/vscodeJupyterKernelCrash'>here</a> for more info. \n",
      "\u001b[1;31mView Jupyter <a href='command:jupyter.viewOutput'>log</a> for further details."
     ]
    }
   ],
   "source": [
    "#If a person skills has only JavaScript and React, print('He is a front end developer'),\n",
    "#if the person skills has Node, Python, MongoDB, print('He is a backend developer'),\n",
    "#if the person skills has React, Node and MongoDB, Print('He is a fullstack developer'), \n",
    "#else print('unknown title') - for more accurate results more conditions can be nested!\n",
    "\n",
    "if \"Javascript\" and \"React\" in person[\"skills\"]:\n",
    "    print(\"He is a front end developer\")\n",
    "elif \"Node\" and \"Python\" and \"MongoDB\" in person[\"skills\"]:\n",
    "    print(\"He is a backend developer\")\n",
    "elif \"React\" and \"Node\" and \"MongoDB\" in person[\"skills\"]:\n",
    "    print(\"He is a fullstack developer\")\n",
    "else:\n",
    "    print(\"unknown title\")"
   ]
  }
 ],
 "metadata": {
  "kernelspec": {
   "display_name": "Python 3",
   "language": "python",
   "name": "python3"
  },
  "language_info": {
   "codemirror_mode": {
    "name": "ipython",
    "version": 3
   },
   "file_extension": ".py",
   "mimetype": "text/x-python",
   "name": "python",
   "nbconvert_exporter": "python",
   "pygments_lexer": "ipython3",
   "version": "3.13.0"
  }
 },
 "nbformat": 4,
 "nbformat_minor": 2
}
