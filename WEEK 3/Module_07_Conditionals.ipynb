{
 "cells": [
  {
   "cell_type": "markdown",
   "metadata": {},
   "source": [
    "__Module 7__"
   ]
  },
  {
   "cell_type": "markdown",
   "metadata": {},
   "source": [
    "# Exercises: Level 1"
   ]
  },
  {
   "cell_type": "markdown",
   "metadata": {},
   "source": [
    "##### 1.Get user input using input(“Enter your age: ”). If user is 18 or older, give feedback: You are old enough to drive. If below 18 give feedback to wait for the missing amount of years. Output:\n",
    "\n",
    "Enter your age: 30\n",
    "You are old enough to learn to drive.\n",
    "Output:\n",
    "Enter your age: 15\n",
    "You need 3 more years to learn to drive."
   ]
  },
  {
   "cell_type": "code",
   "execution_count": null,
   "metadata": {},
   "outputs": [
    {
     "name": "stdout",
     "output_type": "stream",
     "text": [
      "You need atleast 6 to drive\n"
     ]
    }
   ],
   "source": [
    "a = int(input(\"Enter your age\"))\n",
    "if a >= 18:\n",
    "    print(\"PAPA,you are too old to derive\")\n",
    "\n",
    "elif a < 18:\n",
    "    print(f\"You need to wait for  atleast {18-a} to drive\")\n"
   ]
  },
  {
   "cell_type": "markdown",
   "metadata": {},
   "source": [
    "\n",
    "##### 2. Compare the values of my_age and your_age using if … else. Who is older (me or you)? Use input(“Enter your age: ”) to get the age as input. You can use a nested condition to print 'year' for 1 year difference in age, 'years' for bigger differences, and a custom text if my_age = your_age. Output:\n",
    "\n",
    "Enter your age: 30\n",
    "You are 5 years older than me."
   ]
  },
  {
   "cell_type": "code",
   "execution_count": 7,
   "metadata": {},
   "outputs": [
    {
     "name": "stdout",
     "output_type": "stream",
     "text": [
      "We are at the same age\n"
     ]
    }
   ],
   "source": [
    "my_age = 25\n",
    "your_age = int(input(\"Enter the age:\"))\n",
    "\n",
    "if my_age > your_age:\n",
    "    diff = my_age - your_age\n",
    "    if diff ==1:\n",
    "        print(\"I am 1 year older than you\")\n",
    "    else:\n",
    "        print(f\"I am are {diff} older than you\")\n",
    "elif your_age > my_age:\n",
    "    diff = your_age-my_age\n",
    "    if diff == 1:\n",
    "        print(\"You are 1 year older than me\")\n",
    "    else:\n",
    "        print(f\"You are {diff} older than me\")\n",
    "else:\n",
    "    print(\"We are at the same age\")\n"
   ]
  },
  {
   "cell_type": "markdown",
   "metadata": {},
   "source": [
    "3. Get two numbers from the user using input prompt. If a is greater than b return a is greater than b, if a is less b return a is smaller than b, else a is equal to b. Output:\n",
    "\n",
    "Enter number one: 4\n",
    "Enter number two: 3\n",
    "4 is greater than 33"
   ]
  },
  {
   "cell_type": "code",
   "execution_count": 17,
   "metadata": {},
   "outputs": [
    {
     "name": "stdout",
     "output_type": "stream",
     "text": [
      "This value of b: 5 is certainly bigger  than 2\n"
     ]
    }
   ],
   "source": [
    "a = int(input(\"Enter the value of a:\"))\n",
    "b = int(input(\"Enter the value of b:\"))\n",
    "\n",
    "if a > b:\n",
    "    print(f\"This value of a: {a} is bigger than {b}\")\n",
    "elif b > a:\n",
    "    print(f\"This value of b: {b} is certainly bigger  than {a}\")\n",
    "else:\n",
    "    print(f\"Both the value of a: {a} and b: {b} are the same\")\n",
    "    \n"
   ]
  }
 ],
 "metadata": {
  "kernelspec": {
   "display_name": "Python 3",
   "language": "python",
   "name": "python3"
  },
  "language_info": {
   "codemirror_mode": {
    "name": "ipython",
    "version": 3
   },
   "file_extension": ".py",
   "mimetype": "text/x-python",
   "name": "python",
   "nbconvert_exporter": "python",
   "pygments_lexer": "ipython3",
   "version": "3.13.0"
  }
 },
 "nbformat": 4,
 "nbformat_minor": 2
}
