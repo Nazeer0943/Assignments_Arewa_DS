{
 "cells": [
  {
   "cell_type": "markdown",
   "metadata": {},
   "source": [
    "***Exercises: Level 1***\n",
    "Python has the module called statistics and we can use this module to do all the statistical calculations. However, to learn how to make function and reuse function let us try to develop a program, which calculates the measure of central tendency of a sample (mean, median, mode) and measure of variability (range, variance, standard deviation). In addition to those measures, find the min, max, count, percentile, and frequency distribution of the sample. You can create a class called Statistics and create all the functions that do statistical calculations as methods for the Statistics class. "
   ]
  },
  {
   "cell_type": "code",
   "execution_count": 1,
   "metadata": {},
   "outputs": [
    {
     "name": "stdout",
     "output_type": "stream",
     "text": [
      "Count: 25\n",
      "Sum:  744\n",
      "Min:  24\n",
      "Max:  38\n",
      "Range:  14\n",
      "Mean:  29.76\n",
      "Median:  29\n",
      "Mode:  {'mode': 26, 'count': 5}\n",
      "Standard Deviation:  4.2\n",
      "Variance:  17.5\n",
      "Frequency Distribution:  [(20.0, 26), (16.0, 27), (12.0, 32), (8.0, 37), (8.0, 34), (8.0, 33), (8.0, 31), (8.0, 24), (4.0, 38), (4.0, 29), (4.0, 25)]\n"
     ]
    }
   ],
   "source": [
    "import math\n",
    "\n",
    "class Statistics:\n",
    "    def __init__(self, sample):\n",
    "        self.sample = sample\n",
    "\n",
    "    def count(self):\n",
    "        return len(self.sample)\n",
    "\n",
    "    def sum(self):\n",
    "        return sum(self.sample)\n",
    "\n",
    "    def min(self):\n",
    "        return min(self.sample)\n",
    "\n",
    "    def max(self):\n",
    "        return max(self.sample)\n",
    "\n",
    "    def range(self):\n",
    "        return self.max() - self.min()\n",
    "\n",
    "    def mean(self):\n",
    "        return self.sum() / self.count()\n",
    "\n",
    "    def median(self):\n",
    "        sorted_sample = sorted(self.sample)\n",
    "        n = self.count()\n",
    "        mid = n // 2\n",
    "        if n % 2 == 0:\n",
    "            return (sorted_sample[mid - 1] + sorted_sample[mid]) / 2\n",
    "        else:\n",
    "            return sorted_sample[mid]\n",
    "\n",
    "    def mode(self):\n",
    "        freq = {}\n",
    "        for num in self.sample:\n",
    "            freq[num] = freq.get(num, 0) + 1\n",
    "        max_freq = max(freq.values())\n",
    "        mode = [key for key, val in freq.items() if val == max_freq]\n",
    "        return {'mode': mode[0] if len(mode) == 1 else mode, 'count': max_freq}\n",
    "\n",
    "    def variance(self):\n",
    "        mean = self.mean()\n",
    "        return sum((x - mean) ** 2 for x in self.sample) / self.count()\n",
    "\n",
    "    def std(self):\n",
    "        return math.sqrt(self.variance())\n",
    "\n",
    "    def freq_dist(self):\n",
    "        freq = {}\n",
    "        for num in self.sample:\n",
    "            freq[num] = freq.get(num, 0) + 1\n",
    "        freq_percentage = [(round((count / self.count()) * 100, 1), value) for value, count in freq.items()]\n",
    "        return sorted(freq_percentage, reverse=True)\n",
    "\n",
    "\n",
    "ages = [31, 26, 34, 37, 27, 26, 32, 32, 26, 27, 27, 24, 32, 33, 27, 25, 26, 38, 37, 31, 34, 24, 33, 29, 26]\n",
    "data = Statistics(ages)\n",
    "\n",
    "print('Count:', data.count())  \n",
    "print('Sum: ', data.sum())  \n",
    "print('Min: ', data.min())  \n",
    "print('Max: ', data.max())  \n",
    "print('Range: ', data.range())  \n",
    "print('Mean: ', data.mean())  \n",
    "print('Median: ', data.median())  \n",
    "print('Mode: ', data.mode())  \n",
    "print('Standard Deviation: ', round(data.std(), 1))  \n",
    "print('Variance: ', round(data.variance(), 1)) \n",
    "print('Frequency Distribution: ', data.freq_dist())  \n"
   ]
  },
  {
   "cell_type": "markdown",
   "metadata": {},
   "source": [
    "***Exercises: Level 2***\n",
    "Create a class called PersonAccount. It has firstname, lastname, incomes, expenses properties and it has total_income, total_expense, account_info, add_income, add_expense and account_balance methods. Incomes is a set of incomes and its description. The same goes for expenses."
   ]
  },
  {
   "cell_type": "code",
   "execution_count": 2,
   "metadata": {},
   "outputs": [],
   "source": [
    "class PersonAccount:\n",
    "    def __init__(self, firstname, lastname):\n",
    "        self.firstname = firstname\n",
    "        self.lastname = lastname\n",
    "        self.incomes = [] \n",
    "        self.expenses = []  \n",
    "    def total_income(self):\n",
    "        return sum(amount for _, amount in self.incomes)\n",
    "\n",
    "    def total_expense(self):\n",
    "        return sum(amount for _, amount in self.expenses)\n",
    "\n",
    "    def account_balance(self):\n",
    "        return self.total_income() - self.total_expense()\n",
    "\n",
    "    def account_info(self):\n",
    "        info = (\n",
    "            f\"Account Holder: {self.firstname} {self.lastname}\\n\"\n",
    "            f\"Total Income: {self.total_income()}\"\n",
    "            f\"Total Expense: {self.total_expense()}\"\n",
    "            f\"Account Balance: {self.account_balance()}\"\n",
    "        )\n",
    "        return info\n",
    "\n",
    "    def add_income(self, description, amount):\n",
    "        self.incomes.append((description, amount))\n",
    "\n",
    "    def add_expense(self, description, amount):\n",
    "        self.expenses.append((description, amount))\n"
   ]
  },
  {
   "cell_type": "code",
   "execution_count": 3,
   "metadata": {},
   "outputs": [
    {
     "name": "stdout",
     "output_type": "stream",
     "text": [
      "Account Holder: Nazir Sani\n",
      "Total Income: 6500Total Expense: 1500Account Balance: 5000\n",
      "Total Income: 6500\n",
      "Total Expense: 1500\n",
      "Account Balance: 5000\n"
     ]
    }
   ],
   "source": [
    "\n",
    "account = PersonAccount(\"Nazir\", \"Sani\")\n",
    "\n",
    "\n",
    "account.add_income(\"Salary\", 4500)\n",
    "account.add_income(\"Freelancing\", 2000)\n",
    "\n",
    "\n",
    "account.add_expense(\"Rent\", 1200)\n",
    "account.add_expense(\"Groceries\", 300)\n",
    "\n",
    "print(account.account_info())\n",
    "\n",
    "\n",
    "print(\"Total Income:\", account.total_income())  \n",
    "print(\"Total Expense:\", account.total_expense())  \n",
    "print(\"Account Balance:\", account.account_balance())  \n"
   ]
  }
 ],
 "metadata": {
  "kernelspec": {
   "display_name": "Python 3",
   "language": "python",
   "name": "python3"
  },
  "language_info": {
   "codemirror_mode": {
    "name": "ipython",
    "version": 3
   },
   "file_extension": ".py",
   "mimetype": "text/x-python",
   "name": "python",
   "nbconvert_exporter": "python",
   "pygments_lexer": "ipython3",
   "version": "3.13.0"
  }
 },
 "nbformat": 4,
 "nbformat_minor": 2
}
