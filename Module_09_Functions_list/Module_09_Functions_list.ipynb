{
 "cells": [
  {
   "cell_type": "markdown",
   "metadata": {},
   "source": [
    "***Exercises: Module 9***"
   ]
  },
  {
   "cell_type": "code",
   "execution_count": 1,
   "metadata": {},
   "outputs": [
    {
     "data": {
      "text/plain": [
       "8"
      ]
     },
     "execution_count": 1,
     "metadata": {},
     "output_type": "execute_result"
    }
   ],
   "source": [
    "#Declare a function add_two_numbers. It takes two parameters and it returns a sum.\n",
    "\n",
    "def add_two_numbers(a, b):\n",
    "    \"\"\"It adds the two numbers and return the sum\"\"\"\n",
    "    return a + b\n",
    "add_two_numbers(3, 5)"
   ]
  },
  {
   "cell_type": "code",
   "execution_count": 2,
   "metadata": {},
   "outputs": [
    {
     "data": {
      "text/plain": [
       "245"
      ]
     },
     "execution_count": 2,
     "metadata": {},
     "output_type": "execute_result"
    }
   ],
   "source": [
    "#2. Area of a circle is calculated as follows: area = π x r x r. Write a function that calculates area_of_circle.\n",
    "\n",
    "def area_of_a_circle(x, y):\n",
    "    \"\"\"It computes the area of a circle\"\"\"\n",
    "    return x  * y **2\n",
    "\n",
    "area_of_a_circle(5, 7)"
   ]
  },
  {
   "cell_type": "code",
   "execution_count": 13,
   "metadata": {},
   "outputs": [
    {
     "data": {
      "text/plain": [
       "'error, the list should contain only numbers'"
      ]
     },
     "execution_count": 13,
     "metadata": {},
     "output_type": "execute_result"
    }
   ],
   "source": [
    "#3. Write a function called add_all_nums which takes arbitrary number of arguments and sums all the arguments. Check if all the list items are number types. If not do give a reasonable feedback.\n",
    "\n",
    "def add_all_numbers(*args):\n",
    "    \"\"\"It takes the list of numbers and print their total sum\"\"\"\n",
    "    for arg in args:\n",
    "        if not isinstance(arg, int):\n",
    "            return \"error, the list should contain only numbers\"\n",
    "    return sum(args)\n",
    "add_all_numbers(1, 2, 3, 4, 5, \"two\")"
   ]
  },
  {
   "cell_type": "code",
   "execution_count": 14,
   "metadata": {},
   "outputs": [
    {
     "data": {
      "text/plain": [
       "86.0"
      ]
     },
     "execution_count": 14,
     "metadata": {},
     "output_type": "execute_result"
    }
   ],
   "source": [
    "#4. Temperature in °C can be converted to °F using this formula: °F = (°C x 9/5) + 32. Write a function which converts °C to °F, convert_celsius_to-fahrenheit.\n",
    "\n",
    "def convert_celcius_to_fahenheit(c):\n",
    "    \"\"\"It converts a temprature from celcius to fahrenheit\"\"\"\n",
    "    return (c * 9/5) + 32\n",
    "convert_celcius_to_fahenheit(30)\n"
   ]
  },
  {
   "cell_type": "code",
   "execution_count": 15,
   "metadata": {},
   "outputs": [
    {
     "data": {
      "text/plain": [
       "'Spring'"
      ]
     },
     "execution_count": 15,
     "metadata": {},
     "output_type": "execute_result"
    }
   ],
   "source": [
    "#.5 Write a function called check-season, it takes a month parameter and returns the season: Autumn, Winter, Spring or Summer.\n",
    "\n",
    "def check_season(month):\n",
    "    \"\"\"It takes a month and return the season\"\"\"\n",
    "    if month in [\"September\", \"October\", \"November\"]:\n",
    "        return \"Autumn\"\n",
    "    elif month in [\"December\", \"January\", \"February\"]:\n",
    "        return \"Winter\"\n",
    "    elif month in [\"March\", \"April\", \"May\"]:\n",
    "        return \"Spring\"\n",
    "    elif month in [\"June\", \"July\", \"August\"]:\n",
    "        return \"Summer\"\n",
    "    else:\n",
    "        return \"Month not found\"\n",
    "check_season(\"April\")"
   ]
  },
  {
   "cell_type": "code",
   "execution_count": 16,
   "metadata": {},
   "outputs": [
    {
     "data": {
      "text/plain": [
       "-2.0"
      ]
     },
     "execution_count": 16,
     "metadata": {},
     "output_type": "execute_result"
    }
   ],
   "source": [
    "#6. Write a function called calculate_slope which return the slope of a linear equation\n",
    "\n",
    "def calculate_slope(x1, y1, x2, y2):\n",
    "    \"\"\"It calculates the slope of a linear equation\"\"\"\n",
    "    return (y2 - y1) / (x2 - x1)\n",
    "calculate_slope(5, 10, 6, 8)"
   ]
  },
  {
   "cell_type": "code",
   "execution_count": 4,
   "metadata": {},
   "outputs": [
    {
     "data": {
      "text/plain": [
       "'No real roots'"
      ]
     },
     "execution_count": 4,
     "metadata": {},
     "output_type": "execute_result"
    }
   ],
   "source": [
    "#7. Quadratic equation is calculated as follows: ax² + bx + c = 0. Write a function which calculates solution set of a quadratic equation, solve_quadratic_eqn.\n",
    "\n",
    "import math\n",
    "\n",
    "def solve_quadratic_eqn(x, y, z):\n",
    "\t\"\"\"It calculates the solution set of a quadratic equation\"\"\"\n",
    "\tdiscriminant = y**2 - 4*x*z\n",
    "\tif discriminant > 0:\n",
    "\t\troot1 = (-y + math.sqrt(discriminant)) / (2*x)\n",
    "\t\troot2 = (-y - math.sqrt(discriminant)) / (2*x)\n",
    "\t\treturn root1, root2\n",
    "\telif discriminant == 0:\n",
    "\t\troot = -b / (2*x)\n",
    "\t\treturn root\n",
    "\telse:\n",
    "\t\treturn \"No real roots\"\n",
    "\n",
    "solve_quadratic_eqn(2, -13, 24)"
   ]
  },
  {
   "cell_type": "code",
   "execution_count": 14,
   "metadata": {},
   "outputs": [
    {
     "name": "stdout",
     "output_type": "stream",
     "text": [
      "2\n",
      "4\n",
      "5\n",
      "6\n",
      "abba\n",
      "lawal\n",
      "None\n"
     ]
    }
   ],
   "source": [
    "#8. Declare a function named print_list. It takes a list as a parameter and it prints out each element of the list.\n",
    "\n",
    "def list_of_elements(a):\n",
    "    \"\"\"It returns all the elements in the list\"\"\"\n",
    "    for  b in a:\n",
    "        print(b)\n",
    "  \n",
    "c = [2, 4, 5, 6, \"abba\", \"lawal\"]\n",
    "print(list_of_elements(c))"
   ]
  },
  {
   "cell_type": "code",
   "execution_count": 24,
   "metadata": {},
   "outputs": [
    {
     "name": "stdout",
     "output_type": "stream",
     "text": [
      "lawal\n",
      "abba\n",
      "6\n",
      "5\n",
      "4\n",
      "2\n"
     ]
    }
   ],
   "source": [
    "#9. Declare a function named reverse_list. It takes an array as a parameter and it returns the reverse of the array (use loops).\n",
    "\n",
    "def reversed_list(a):\n",
    "    \"\"\"it returns the reversed elements of a list\"\"\"\n",
    "    for x in range(len(a)-1, -1, -1):\n",
    "        print(a[x])\n",
    "\n",
    "reversed_list(c)\n",
    "\n",
    "\n"
   ]
  },
  {
   "cell_type": "code",
   "execution_count": 25,
   "metadata": {},
   "outputs": [
    {
     "name": "stdout",
     "output_type": "stream",
     "text": [
      "LAWAL\n",
      "ABBA\n",
      "SULEIMAN\n"
     ]
    }
   ],
   "source": [
    "#10. Declare a function named capitalize_list_items. It takes a list as a parameter and it returns a capitalized list of items\n",
    "\n",
    "def capitalize_list_items(a):\n",
    "    \"\"\"It returns the capitalized list of items\"\"\"\n",
    "    for x in a:\n",
    "        print(x.upper())\n",
    "\n",
    "v = [\"lawal\", \"abba\", \"suleiman\"]\n",
    "capitalize_list_items(v)"
   ]
  },
  {
   "cell_type": "code",
   "execution_count": 30,
   "metadata": {},
   "outputs": [
    {
     "data": {
      "text/plain": [
       "[2, 4, 5, 6, 'abba', 'lawal', 10, 10, (10, 4)]"
      ]
     },
     "execution_count": 30,
     "metadata": {},
     "output_type": "execute_result"
    }
   ],
   "source": [
    "#11. Declare a function named add_item. It takes a list and an item parameter and it returns the list with the item added at the end.\n",
    "\n",
    "def add_items(a, *b):\n",
    "    \"\"\"it takes items and then adds the items to the list\"\"\"\n",
    "    a.append(b)\n",
    "    return a\n",
    "\n",
    "add_items(c, 10, 4)"
   ]
  },
  {
   "cell_type": "code",
   "execution_count": 33,
   "metadata": {},
   "outputs": [
    {
     "name": "stdout",
     "output_type": "stream",
     "text": [
      "['Potato', 'Tomato', 'Milk']\n",
      "[2, 7, 9]\n"
     ]
    }
   ],
   "source": [
    "#12. Declare a function named remove_item. It takes a list and an item parameters. It returns a list with the item removed from it.\n",
    "\n",
    "def remove_items(a, b):\n",
    "    \"\"\"It takes a list and an item and then remove the item from the list\"\"\"\n",
    "    a.remove(b)\n",
    "    return a\n",
    "\n",
    "\n",
    "food_staff = ['Potato', 'Tomato', 'Mango', 'Milk']\n",
    "print(remove_items(food_staff, 'Mango')) \n",
    "numbers = [2, 3, 7, 9]\n",
    "print(remove_items(numbers, 3))"
   ]
  },
  {
   "cell_type": "code",
   "execution_count": 40,
   "metadata": {},
   "outputs": [
    {
     "name": "stdout",
     "output_type": "stream",
     "text": [
      "10\n",
      "10\n",
      "45\n",
      "4950\n"
     ]
    }
   ],
   "source": [
    "#13. Declare a function named sum_of_numbers. It takes a number parameter and it adds all the numbers in that range.\n",
    "\n",
    "def sum_of_numbers(x):\n",
    "     \"\"\" It takes a number and then adds all the numbers in that range\"\"\"\n",
    "     y = range(x)\n",
    "     return sum(y)\n",
    "\n",
    "print(sum_of_numbers(5))\n",
    "print(sum_of_numbers(5))  \n",
    "print(sum_of_numbers(10)) \n",
    "print(sum_of_numbers(100)) \n",
    "   \n",
    "\n",
    "    "
   ]
  },
  {
   "cell_type": "code",
   "execution_count": 48,
   "metadata": {},
   "outputs": [
    {
     "name": "stdout",
     "output_type": "stream",
     "text": [
      "9\n"
     ]
    }
   ],
   "source": [
    "#14. Declare a function named sum_of_odds. It takes a number parameter and it adds all the odd numbers in that range.\n",
    "\n",
    "def sum_of_odds(x):\n",
    "    \"\"\"It sums all the odd numbers in a range\"\"\"\n",
    "    for odd in range(x):\n",
    "        y = 0\n",
    "        if odd % 2 != 0:\n",
    "             y += odd\n",
    "    return y\n",
    "print(sum_of_odds(10))\n",
    "\n",
    "    "
   ]
  },
  {
   "cell_type": "code",
   "execution_count": 50,
   "metadata": {},
   "outputs": [
    {
     "name": "stdout",
     "output_type": "stream",
     "text": [
      "49\n"
     ]
    }
   ],
   "source": [
    "#15. Declare a function named sum_of_even. It takes a number parameter and it adds all the even numbers in that - range.\n",
    "\n",
    "def sum_of_even(y):\n",
    "    \"\"\"It sums all the even numbers in a given range\"\"\"\n",
    "    x = 0\n",
    "    for even in range(y):\n",
    "        if even % 2 != 0:\n",
    "            x += even\n",
    "    return x\n",
    "\n",
    "print(sum_of_even(15))\n"
   ]
  },
  {
   "cell_type": "markdown",
   "metadata": {},
   "source": [
    "***Exercises: Level 2***"
   ]
  },
  {
   "cell_type": "code",
   "execution_count": 51,
   "metadata": {},
   "outputs": [
    {
     "name": "stdout",
     "output_type": "stream",
     "text": [
      "the total number of evens are 62 and the odds are 63\n"
     ]
    }
   ],
   "source": [
    "#1. Declare a function named evens_and_odds . It takes a positive integer as parameter and it counts number of evens and odds in the number.\n",
    "\n",
    "def evens_and_odds(x):\n",
    "    \"\"\"It returns the number of evens and odds in a number\"\"\"\n",
    "    evens = 0\n",
    "    odds = 0\n",
    "    for number in range(x):\n",
    "        if number % 2 != 0:\n",
    "            evens = evens + 1\n",
    "        else:\n",
    "            odds += 1\n",
    "    return f\"the total number of evens are {evens} and the odds are {odds}\"\n",
    "print(evens_and_odds(125))\n",
    "        \n"
   ]
  },
  {
   "cell_type": "code",
   "execution_count": 55,
   "metadata": {},
   "outputs": [
    {
     "name": "stdout",
     "output_type": "stream",
     "text": [
      "3628800\n"
     ]
    }
   ],
   "source": [
    "#2. Call your function factorial, it takes a whole number as a parameter and it return a factorial of the number\n",
    "\n",
    "def factorial(x):\n",
    "    \"\"\"It calculates the factorial of a number\"\"\"\n",
    "    if x < 0:\n",
    "        return \"I could not define the factorial of negative numbers\"\n",
    "    elif x == 0:\n",
    "        return 1\n",
    "    else:\n",
    "        nmbr = 1\n",
    "        for i in range(2, x+1):\n",
    "            nmbr = nmbr * i\n",
    "        return nmbr\n",
    "\n",
    "\n",
    "print(factorial(10))"
   ]
  },
  {
   "cell_type": "code",
   "execution_count": 57,
   "metadata": {},
   "outputs": [
    {
     "name": "stdout",
     "output_type": "stream",
     "text": [
      "The parameter is not empty\n"
     ]
    }
   ],
   "source": [
    "#3. Call your function is_empty, it takes a parameter and it checks if it is empty or not\n",
    "\n",
    "def is_empty(x):\n",
    "    \"\"\"It checks if a parameter is empty or not\"\"\"\n",
    "    if not x:\n",
    "        return \"The parameter is empty\"\n",
    "    else:\n",
    "        return \"The parameter is not empty\"\n",
    "    \n",
    "print(is_empty({1}))"
   ]
  },
  {
   "cell_type": "code",
   "execution_count": 59,
   "metadata": {},
   "outputs": [
    {
     "name": "stdout",
     "output_type": "stream",
     "text": [
      "17.428571428571427\n",
      "6\n",
      "2\n"
     ]
    }
   ],
   "source": [
    "#3. write different functions which take lists. They should calculate mean, median and mode of the lists respectively\n",
    "\n",
    "from statistics import mean, median, mode, variance, stdev\n",
    "\n",
    "def calculate_mean(data):\n",
    "    \"\"\"Calculates the mean of the list.\"\"\"\n",
    "    return mean(data)\n",
    "\n",
    "def calculate_median(data):\n",
    "    \"\"\"Calculates the median of the list.\"\"\"\n",
    "    return median(data)\n",
    "\n",
    "def calculate_mode(data):\n",
    "    \"\"\"Calculates the mode of the list.\"\"\"\n",
    "    try:\n",
    "        return mode(data)\n",
    "    except:\n",
    "        return \"No unique mode found (multiple modes exist).\"\n",
    "\n",
    "def calculate_range(data):\n",
    "    \"\"\"Calculates the range of the list.\"\"\"\n",
    "    return max(data) - min(data)\n",
    "\n",
    "def calculate_variance(data):\n",
    "    \"\"\"Calculates the variance of the list.\"\"\"\n",
    "    return variance(data)\n",
    "\n",
    "def calculate_std(data):\n",
    "    \"\"\"Calculates the standard deviation of the list.\"\"\"\n",
    "    return stdev(data)\n",
    "\n",
    "l = [2, 4, 5, 6, 7, 8, 90]\n",
    "print(calculate_mean(l))\n",
    "print(calculate_median(l))\n",
    "print(calculate_mode(l))"
   ]
  },
  {
   "cell_type": "markdown",
   "metadata": {},
   "source": [
    "***List Comprehensions Exercises***"
   ]
  },
  {
   "cell_type": "code",
   "execution_count": 60,
   "metadata": {},
   "outputs": [
    {
     "name": "stdout",
     "output_type": "stream",
     "text": [
      "[-4, -3, -2, -1, 0]\n"
     ]
    }
   ],
   "source": [
    "#1. Filter only negative and zero in the list using list comprehension\n",
    "\n",
    "numbers = [-4, -3, -2, -1, 0, 2, 4, 6]\n",
    "neg_and_zeros = [ i for i in numbers if i <= 0]\n",
    "print(neg_and_zeros)"
   ]
  },
  {
   "cell_type": "code",
   "execution_count": 61,
   "metadata": {},
   "outputs": [
    {
     "name": "stdout",
     "output_type": "stream",
     "text": [
      "[1, 2, 3, 4, 5, 6, 7, 8, 9]\n"
     ]
    }
   ],
   "source": [
    "#.2  Flatten the following list of lists of lists to a one dimensional list\n",
    "\n",
    "\n",
    "list_of_lists =[[[1, 2, 3]], [[4, 5, 6]], [[7, 8, 9]]]\n",
    "new_lits = [ i for i in list_of_lists for i in i for i in i]\n",
    "print(new_lits)"
   ]
  },
  {
   "cell_type": "code",
   "execution_count": 63,
   "metadata": {},
   "outputs": [
    {
     "name": "stdout",
     "output_type": "stream",
     "text": [
      "(0, 1, 0, 0, 0, 0, 0, 0)\n",
      "(1, 1, 1, 1, 1, 1, 1, 1)\n",
      "(2, 1, 2, 4, 8, 16, 32, 64)\n",
      "(3, 1, 3, 9, 27, 81, 243, 729)\n",
      "(4, 1, 4, 16, 64, 256, 1024, 4096)\n",
      "(5, 1, 5, 25, 125, 625, 3125, 15625)\n",
      "(6, 1, 6, 36, 216, 1296, 7776, 46656)\n",
      "(7, 1, 7, 49, 343, 2401, 16807, 117649)\n",
      "(8, 1, 8, 64, 512, 4096, 32768, 262144)\n",
      "(9, 1, 9, 81, 729, 6561, 59049, 531441)\n",
      "(10, 1, 10, 100, 1000, 10000, 100000, 1000000)\n"
     ]
    }
   ],
   "source": [
    "list_of_numbers = [(x, 1, x**1, x**2, x**3, x**4, x**5, x**6) for x in range(11)]\n",
    "\n",
    "# Print each tuple on a new line\n",
    "for row in list_of_numbers:\n",
    "    print(row)\n"
   ]
  },
  {
   "cell_type": "code",
   "execution_count": 66,
   "metadata": {},
   "outputs": [
    {
     "name": "stdout",
     "output_type": "stream",
     "text": [
      "[{'country': 'FINLAND', 'city': 'HELSINKI'}, {'country': 'SWEDEN', 'city': 'STOCKHOLM'}, {'country': 'NORWAY', 'city': 'OSLO'}]\n"
     ]
    }
   ],
   "source": [
    "#4. Flatten the following list to a new list: countries = [[('Finland', 'Helsinki')], [('Sweden', 'Stockholm')], [('Norway', 'Oslo')]]\n",
    "\n",
    "\n",
    "countries = [[('Finland', 'Helsinki')], [('Sweden', 'Stockholm')], [('Norway', 'Oslo')]]\n",
    "\n",
    "# Flatten and transform into a list of dictionaries\n",
    "list_dic = [\n",
    "    {'country': country.upper(), 'city': capital.upper()}\n",
    "    for sublist in countries\n",
    "    for country, capital in sublist\n",
    "]\n",
    "\n",
    "print(list_dic)\n"
   ]
  },
  {
   "cell_type": "code",
   "execution_count": 67,
   "metadata": {},
   "outputs": [
    {
     "name": "stdout",
     "output_type": "stream",
     "text": [
      "[{'country': 'Finland', 'capital': 'Helsinki'}, {'country': 'Sweden', 'capital': 'Stockholm'}, {'country': 'Norway', 'capital': 'Oslo'}]\n"
     ]
    }
   ],
   "source": [
    "#5 Change the following list to a list of dictionaries:\n",
    "\n",
    "\n",
    "countries = [[('Finland', 'Helsinki')], [('Sweden', 'Stockholm')], [('Norway', 'Oslo')]]\n",
    "\n",
    "\n",
    "result = [{'country': country, 'capital': capital} for sublist in countries for country, capital in sublist]\n",
    "\n",
    "print(result)\n"
   ]
  },
  {
   "cell_type": "code",
   "execution_count": 73,
   "metadata": {},
   "outputs": [
    {
     "name": "stdout",
     "output_type": "stream",
     "text": [
      "['Asabeneh Yetayeh', 'David Smith', 'Donald Trump', 'Bill Gates']\n"
     ]
    }
   ],
   "source": [
    "#Change the following list of lists to a list of concatenated strings:\n",
    "\n",
    "\n",
    "names = [[('Asabeneh', 'Yetayeh')], [('David', 'Smith')], [('Donald', 'Trump')], [('Bill', 'Gates')]]\n",
    "\n",
    "# Concatenate first and last names into a single string\n",
    "conc_str = [f\"{first} {last}\" for sublist in names for first, last in sublist]\n",
    "\n",
    "print(conc_str)\n"
   ]
  },
  {
   "cell_type": "code",
   "execution_count": 75,
   "metadata": {},
   "outputs": [
    {
     "data": {
      "text/plain": [
       "0.8"
      ]
     },
     "execution_count": 75,
     "metadata": {},
     "output_type": "execute_result"
    }
   ],
   "source": [
    "#7. Write a lambda function which can solve a slope or y-intercept of linear functions.\n",
    "\n",
    "c = lambda x1, x2, y1, y2 : (y2 - y1)/(x2 -x1)\n",
    "d = c(5, 10, 8, 12)\n",
    "d"
   ]
  }
 ],
 "metadata": {
  "kernelspec": {
   "display_name": "Python 3",
   "language": "python",
   "name": "python3"
  },
  "language_info": {
   "codemirror_mode": {
    "name": "ipython",
    "version": 3
   },
   "file_extension": ".py",
   "mimetype": "text/x-python",
   "name": "python",
   "nbconvert_exporter": "python",
   "pygments_lexer": "ipython3",
   "version": "3.13.0"
  }
 },
 "nbformat": 4,
 "nbformat_minor": 2
}
