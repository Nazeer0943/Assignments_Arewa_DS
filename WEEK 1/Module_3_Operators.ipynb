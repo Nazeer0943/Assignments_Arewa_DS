{
 "cells": [
  {
   "cell_type": "markdown",
   "metadata": {},
   "source": [
    "Module 3 exercises"
   ]
  },
  {
   "cell_type": "code",
   "execution_count": null,
   "metadata": {},
   "outputs": [],
   "source": [
    "# declaring my age, height, and a a variable that stores a complex number \n",
    "\n",
    "my_age = 25\n",
    "my-height = 1.7\n",
    "complex_no = 3 + 2j"
   ]
  },
  {
   "cell_type": "code",
   "execution_count": 4,
   "metadata": {},
   "outputs": [
    {
     "name": "stdout",
     "output_type": "stream",
     "text": [
      "The area of traingle is: 100.0\n"
     ]
    }
   ],
   "source": [
    "base = int(input(\"Enter base:\"))\n",
    "height = int(input(\"Enter height\"))\n",
    "area_of_triangle = print(\"The area of traingle is:\", base * height * 0.5)"
   ]
  },
  {
   "cell_type": "code",
   "execution_count": 5,
   "metadata": {},
   "outputs": [
    {
     "name": "stdout",
     "output_type": "stream",
     "text": [
      "The perimeter of a traingle is : 12\n"
     ]
    }
   ],
   "source": [
    "# Calculating the perimeter of a triangle\n",
    "a = int(input(\"Enter side a:\"))\n",
    "b = int(input(\"Enter side b:\"))\n",
    "c = int(input(\"Enter side c:\"))\n",
    "per_triangle = a + b + c\n",
    "print(\"The perimeter of a traingle is :\", per_triangle)"
   ]
  },
  {
   "cell_type": "code",
   "execution_count": 7,
   "metadata": {},
   "outputs": [
    {
     "name": "stdout",
     "output_type": "stream",
     "text": [
      "area_rectangle is: 4.0\n",
      "per of rectangle is: 8.0\n"
     ]
    }
   ],
   "source": [
    "# Q6, Calculating length and width of a rectangle using promt. \n",
    "length = float(input(\"Enter length:\"))\n",
    "width = float(input(\"Enter width\"))\n",
    "print(\"area_rectangle is:\", length * width)\n",
    "print(\"per of rectangle is:\", 2* length * width)\n",
    "\n"
   ]
  },
  {
   "cell_type": "code",
   "execution_count": 9,
   "metadata": {},
   "outputs": [
    {
     "name": "stdout",
     "output_type": "stream",
     "text": [
      "The area of a circle is: 78.5\n",
      "The cir is : 31.400000000000002\n"
     ]
    }
   ],
   "source": [
    "PI = 3.14\n",
    "radius = float(input(\"Enter radius\"))\n",
    "print(\"The area of a circle is:\", PI * radius * radius)\n",
    "cir = 2 * PI * radius\n",
    "print(\"The cir is :\",cir)\n"
   ]
  },
  {
   "cell_type": "code",
   "execution_count": 10,
   "metadata": {},
   "outputs": [
    {
     "name": "stdout",
     "output_type": "stream",
     "text": [
      "Q 8 Results:\n",
      "Slope: 2\n",
      "X-intercept: 1\n",
      "Y-intercept: -2\n",
      "\n",
      "Q9 Results:\n",
      "Slope: 2.0\n",
      "Euclidean Distance: 8.94427190999916\n"
     ]
    }
   ],
   "source": [
    "import math\n",
    "\n",
    "# Q 8, Given line equation y = 2x - 2\n",
    "slope_8 = 2\n",
    "x_intercept_8 = 1\n",
    "y_intercept_8 = -2\n",
    "\n",
    "# Q9: Calculating the slope and Euclidean distance between (2, 2) and (6, 10)\n",
    "x1, y1 = 2, 2\n",
    "x2, y2 = 6, 10\n",
    "\n",
    "# Slope formula\n",
    "slope_9 = (y2 - y1) / (x2 - x1)\n",
    "\n",
    "# Euclidean distance formula\n",
    "distance = math.sqrt((x2 - x1)**2 + (y2 - y1)**2)\n",
    "\n",
    "# Displaying  the results\n",
    "print(f\"Q 8 Results:\")\n",
    "print(f\"Slope: {slope_8}\")\n",
    "print(f\"X-intercept: {x_intercept_8}\")\n",
    "print(f\"Y-intercept: {y_intercept_8}\\n\")\n",
    "\n",
    "print(f\"Q9 Results:\")\n",
    "print(f\"Slope: {slope_9}\")\n",
    "print(f\"Euclidean Distance: {distance}\")\n"
   ]
  },
  {
   "cell_type": "code",
   "execution_count": 14,
   "metadata": {},
   "outputs": [
    {
     "name": "stdout",
     "output_type": "stream",
     "text": [
      "9.0\n"
     ]
    }
   ],
   "source": [
    "# calculating the value of y\n",
    "x = float(input(\"Enter x:\"))\n",
    "y = x **2 + 6 * x +9\n",
    "print(y)"
   ]
  },
  {
   "cell_type": "code",
   "execution_count": 22,
   "metadata": {},
   "outputs": [
    {
     "name": "stdout",
     "output_type": "stream",
     "text": [
      "False\n",
      "False\n"
     ]
    }
   ],
   "source": [
    "# Finding the length of python and dragon\n",
    "print(len(\"python\") != len(\"dragon\"))\n",
    "print(\"on\" not in \"python\" and \"dragon\")"
   ]
  },
  {
   "cell_type": "code",
   "execution_count": 24,
   "metadata": {},
   "outputs": [
    {
     "name": "stdout",
     "output_type": "stream",
     "text": [
      "True\n",
      "False\n"
     ]
    }
   ],
   "source": [
    "#Q14 and 15 in operator\n",
    "print(\"jargon\" in \"I hope this course is not full of jargon\")\n",
    "print(\"on\" not in \"python\" and \"dragon\")"
   ]
  },
  {
   "cell_type": "code",
   "execution_count": 26,
   "metadata": {},
   "outputs": [
    {
     "name": "stdout",
     "output_type": "stream",
     "text": [
      "6.0\n",
      "6\n"
     ]
    }
   ],
   "source": [
    "print(float(len(\"python\")))\n",
    "print(str(len(\"python\")))"
   ]
  },
  {
   "cell_type": "code",
   "execution_count": 31,
   "metadata": {},
   "outputs": [
    {
     "name": "stdout",
     "output_type": "stream",
     "text": [
      "Your weekly earning is: 1120.0\n"
     ]
    }
   ],
   "source": [
    "#21\n",
    "hours = float(input(\"Enter hours\"))\n",
    "rate_per_hour = float(input(\"Enter rate\"))\n",
    "print(\"Your weekly earning is:\", hours * rate_per_hour)"
   ]
  },
  {
   "cell_type": "code",
   "execution_count": null,
   "metadata": {},
   "outputs": [
    {
     "ename": "SyntaxError",
     "evalue": "invalid syntax. Perhaps you forgot a comma? (3471862693.py, line 1)",
     "output_type": "error",
     "traceback": [
      "\u001b[1;36m  Cell \u001b[1;32mIn[33], line 1\u001b[1;36m\u001b[0m\n\u001b[1;33m    print(1 1 1 1 1, \\n 2 1 2 4 8)\u001b[0m\n\u001b[1;37m          ^\u001b[0m\n\u001b[1;31mSyntaxError\u001b[0m\u001b[1;31m:\u001b[0m invalid syntax. Perhaps you forgot a comma?\n"
     ]
    }
   ],
   "source": [
    "print(1,1, /n 2, 2)"
   ]
  },
  {
   "cell_type": "markdown",
   "metadata": {},
   "source": []
  }
 ],
 "metadata": {
  "kernelspec": {
   "display_name": "Python 3",
   "language": "python",
   "name": "python3"
  },
  "language_info": {
   "codemirror_mode": {
    "name": "ipython",
    "version": 3
   },
   "file_extension": ".py",
   "mimetype": "text/x-python",
   "name": "python",
   "nbconvert_exporter": "python",
   "pygments_lexer": "ipython3",
   "version": "3.13.0"
  }
 },
 "nbformat": 4,
 "nbformat_minor": 2
}
